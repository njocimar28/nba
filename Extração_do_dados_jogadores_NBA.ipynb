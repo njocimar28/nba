{
  "nbformat": 4,
  "nbformat_minor": 0,
  "metadata": {
    "colab": {
      "provenance": [],
      "authorship_tag": "ABX9TyNoy23K0YPc1PKZmXAt0XzD",
      "include_colab_link": true
    },
    "kernelspec": {
      "name": "python3",
      "display_name": "Python 3"
    },
    "language_info": {
      "name": "python"
    }
  },
  "cells": [
    {
      "cell_type": "markdown",
      "metadata": {
        "id": "view-in-github",
        "colab_type": "text"
      },
      "source": [
        "<a href=\"https://colab.research.google.com/github/njocimar28/nba/blob/main/Extra%C3%A7%C3%A3o_do_dados_jogadores_NBA.ipynb\" target=\"_parent\"><img src=\"https://colab.research.google.com/assets/colab-badge.svg\" alt=\"Open In Colab\"/></a>"
      ]
    },
    {
      "cell_type": "code",
      "execution_count": 1,
      "metadata": {
        "id": "icJoBv9VQ1aA"
      },
      "outputs": [],
      "source": [
        "import pandas as pd\n",
        "import requests"
      ]
    },
    {
      "cell_type": "code",
      "source": [
        "pip install numpy==1.24.2"
      ],
      "metadata": {
        "colab": {
          "base_uri": "https://localhost:8080/"
        },
        "id": "phuzWGRxQ9BC",
        "outputId": "14f79255-781b-4900-f243-fc58bd28aee8"
      },
      "execution_count": 2,
      "outputs": [
        {
          "output_type": "stream",
          "name": "stdout",
          "text": [
            "Looking in indexes: https://pypi.org/simple, https://us-python.pkg.dev/colab-wheels/public/simple/\n",
            "Requirement already satisfied: numpy==1.24.2 in /usr/local/lib/python3.10/dist-packages (1.24.2)\n"
          ]
        }
      ]
    },
    {
      "cell_type": "code",
      "source": [
        "pip install nba_api"
      ],
      "metadata": {
        "colab": {
          "base_uri": "https://localhost:8080/"
        },
        "id": "8rLhGsRIQ-zW",
        "outputId": "62c9dfe8-9cbe-4c0c-83fd-740d0b274ccd"
      },
      "execution_count": 3,
      "outputs": [
        {
          "output_type": "stream",
          "name": "stdout",
          "text": [
            "Looking in indexes: https://pypi.org/simple, https://us-python.pkg.dev/colab-wheels/public/simple/\n",
            "Requirement already satisfied: nba_api in /usr/local/lib/python3.10/dist-packages (1.2)\n",
            "Requirement already satisfied: numpy<2.0.0,>=1.22.2 in /usr/local/lib/python3.10/dist-packages (from nba_api) (1.24.2)\n",
            "Requirement already satisfied: requests in /usr/local/lib/python3.10/dist-packages (from nba_api) (2.27.1)\n",
            "Requirement already satisfied: urllib3<1.27,>=1.21.1 in /usr/local/lib/python3.10/dist-packages (from requests->nba_api) (1.26.15)\n",
            "Requirement already satisfied: certifi>=2017.4.17 in /usr/local/lib/python3.10/dist-packages (from requests->nba_api) (2022.12.7)\n",
            "Requirement already satisfied: charset-normalizer~=2.0.0 in /usr/local/lib/python3.10/dist-packages (from requests->nba_api) (2.0.12)\n",
            "Requirement already satisfied: idna<4,>=2.5 in /usr/local/lib/python3.10/dist-packages (from requests->nba_api) (3.4)\n"
          ]
        }
      ]
    },
    {
      "cell_type": "code",
      "source": [
        "from nba_api.stats.endpoints import playercareerstats, teamvsplayer\n",
        "from nba_api.stats.static import players, teams"
      ],
      "metadata": {
        "id": "1rJPi5wgRBCY"
      },
      "execution_count": 4,
      "outputs": []
    },
    {
      "cell_type": "code",
      "source": [
        "nba_players = players.get_players()"
      ],
      "metadata": {
        "id": "0Qyn9xrsRDqZ"
      },
      "execution_count": 5,
      "outputs": []
    },
    {
      "cell_type": "code",
      "source": [
        "jogadores = pd.DataFrame(nba_players)\n",
        "jogadores.head()"
      ],
      "metadata": {
        "colab": {
          "base_uri": "https://localhost:8080/",
          "height": 206
        },
        "id": "3UW7pKKlRDxS",
        "outputId": "91195812-4220-42d1-df14-992a3e9ecdb6"
      },
      "execution_count": 6,
      "outputs": [
        {
          "output_type": "execute_result",
          "data": {
            "text/plain": [
              "      id            full_name first_name     last_name  is_active\n",
              "0  76001       Alaa Abdelnaby       Alaa     Abdelnaby      False\n",
              "1  76002      Zaid Abdul-Aziz       Zaid    Abdul-Aziz      False\n",
              "2  76003  Kareem Abdul-Jabbar     Kareem  Abdul-Jabbar      False\n",
              "3     51   Mahmoud Abdul-Rauf    Mahmoud    Abdul-Rauf      False\n",
              "4   1505    Tariq Abdul-Wahad      Tariq   Abdul-Wahad      False"
            ],
            "text/html": [
              "\n",
              "  <div id=\"df-a2a47067-c6c4-47d1-91d0-7448bdbece94\">\n",
              "    <div class=\"colab-df-container\">\n",
              "      <div>\n",
              "<style scoped>\n",
              "    .dataframe tbody tr th:only-of-type {\n",
              "        vertical-align: middle;\n",
              "    }\n",
              "\n",
              "    .dataframe tbody tr th {\n",
              "        vertical-align: top;\n",
              "    }\n",
              "\n",
              "    .dataframe thead th {\n",
              "        text-align: right;\n",
              "    }\n",
              "</style>\n",
              "<table border=\"1\" class=\"dataframe\">\n",
              "  <thead>\n",
              "    <tr style=\"text-align: right;\">\n",
              "      <th></th>\n",
              "      <th>id</th>\n",
              "      <th>full_name</th>\n",
              "      <th>first_name</th>\n",
              "      <th>last_name</th>\n",
              "      <th>is_active</th>\n",
              "    </tr>\n",
              "  </thead>\n",
              "  <tbody>\n",
              "    <tr>\n",
              "      <th>0</th>\n",
              "      <td>76001</td>\n",
              "      <td>Alaa Abdelnaby</td>\n",
              "      <td>Alaa</td>\n",
              "      <td>Abdelnaby</td>\n",
              "      <td>False</td>\n",
              "    </tr>\n",
              "    <tr>\n",
              "      <th>1</th>\n",
              "      <td>76002</td>\n",
              "      <td>Zaid Abdul-Aziz</td>\n",
              "      <td>Zaid</td>\n",
              "      <td>Abdul-Aziz</td>\n",
              "      <td>False</td>\n",
              "    </tr>\n",
              "    <tr>\n",
              "      <th>2</th>\n",
              "      <td>76003</td>\n",
              "      <td>Kareem Abdul-Jabbar</td>\n",
              "      <td>Kareem</td>\n",
              "      <td>Abdul-Jabbar</td>\n",
              "      <td>False</td>\n",
              "    </tr>\n",
              "    <tr>\n",
              "      <th>3</th>\n",
              "      <td>51</td>\n",
              "      <td>Mahmoud Abdul-Rauf</td>\n",
              "      <td>Mahmoud</td>\n",
              "      <td>Abdul-Rauf</td>\n",
              "      <td>False</td>\n",
              "    </tr>\n",
              "    <tr>\n",
              "      <th>4</th>\n",
              "      <td>1505</td>\n",
              "      <td>Tariq Abdul-Wahad</td>\n",
              "      <td>Tariq</td>\n",
              "      <td>Abdul-Wahad</td>\n",
              "      <td>False</td>\n",
              "    </tr>\n",
              "  </tbody>\n",
              "</table>\n",
              "</div>\n",
              "      <button class=\"colab-df-convert\" onclick=\"convertToInteractive('df-a2a47067-c6c4-47d1-91d0-7448bdbece94')\"\n",
              "              title=\"Convert this dataframe to an interactive table.\"\n",
              "              style=\"display:none;\">\n",
              "        \n",
              "  <svg xmlns=\"http://www.w3.org/2000/svg\" height=\"24px\"viewBox=\"0 0 24 24\"\n",
              "       width=\"24px\">\n",
              "    <path d=\"M0 0h24v24H0V0z\" fill=\"none\"/>\n",
              "    <path d=\"M18.56 5.44l.94 2.06.94-2.06 2.06-.94-2.06-.94-.94-2.06-.94 2.06-2.06.94zm-11 1L8.5 8.5l.94-2.06 2.06-.94-2.06-.94L8.5 2.5l-.94 2.06-2.06.94zm10 10l.94 2.06.94-2.06 2.06-.94-2.06-.94-.94-2.06-.94 2.06-2.06.94z\"/><path d=\"M17.41 7.96l-1.37-1.37c-.4-.4-.92-.59-1.43-.59-.52 0-1.04.2-1.43.59L10.3 9.45l-7.72 7.72c-.78.78-.78 2.05 0 2.83L4 21.41c.39.39.9.59 1.41.59.51 0 1.02-.2 1.41-.59l7.78-7.78 2.81-2.81c.8-.78.8-2.07 0-2.86zM5.41 20L4 18.59l7.72-7.72 1.47 1.35L5.41 20z\"/>\n",
              "  </svg>\n",
              "      </button>\n",
              "      \n",
              "  <style>\n",
              "    .colab-df-container {\n",
              "      display:flex;\n",
              "      flex-wrap:wrap;\n",
              "      gap: 12px;\n",
              "    }\n",
              "\n",
              "    .colab-df-convert {\n",
              "      background-color: #E8F0FE;\n",
              "      border: none;\n",
              "      border-radius: 50%;\n",
              "      cursor: pointer;\n",
              "      display: none;\n",
              "      fill: #1967D2;\n",
              "      height: 32px;\n",
              "      padding: 0 0 0 0;\n",
              "      width: 32px;\n",
              "    }\n",
              "\n",
              "    .colab-df-convert:hover {\n",
              "      background-color: #E2EBFA;\n",
              "      box-shadow: 0px 1px 2px rgba(60, 64, 67, 0.3), 0px 1px 3px 1px rgba(60, 64, 67, 0.15);\n",
              "      fill: #174EA6;\n",
              "    }\n",
              "\n",
              "    [theme=dark] .colab-df-convert {\n",
              "      background-color: #3B4455;\n",
              "      fill: #D2E3FC;\n",
              "    }\n",
              "\n",
              "    [theme=dark] .colab-df-convert:hover {\n",
              "      background-color: #434B5C;\n",
              "      box-shadow: 0px 1px 3px 1px rgba(0, 0, 0, 0.15);\n",
              "      filter: drop-shadow(0px 1px 2px rgba(0, 0, 0, 0.3));\n",
              "      fill: #FFFFFF;\n",
              "    }\n",
              "  </style>\n",
              "\n",
              "      <script>\n",
              "        const buttonEl =\n",
              "          document.querySelector('#df-a2a47067-c6c4-47d1-91d0-7448bdbece94 button.colab-df-convert');\n",
              "        buttonEl.style.display =\n",
              "          google.colab.kernel.accessAllowed ? 'block' : 'none';\n",
              "\n",
              "        async function convertToInteractive(key) {\n",
              "          const element = document.querySelector('#df-a2a47067-c6c4-47d1-91d0-7448bdbece94');\n",
              "          const dataTable =\n",
              "            await google.colab.kernel.invokeFunction('convertToInteractive',\n",
              "                                                     [key], {});\n",
              "          if (!dataTable) return;\n",
              "\n",
              "          const docLinkHtml = 'Like what you see? Visit the ' +\n",
              "            '<a target=\"_blank\" href=https://colab.research.google.com/notebooks/data_table.ipynb>data table notebook</a>'\n",
              "            + ' to learn more about interactive tables.';\n",
              "          element.innerHTML = '';\n",
              "          dataTable['output_type'] = 'display_data';\n",
              "          await google.colab.output.renderOutput(dataTable, element);\n",
              "          const docLink = document.createElement('div');\n",
              "          docLink.innerHTML = docLinkHtml;\n",
              "          element.appendChild(docLink);\n",
              "        }\n",
              "      </script>\n",
              "    </div>\n",
              "  </div>\n",
              "  "
            ]
          },
          "metadata": {},
          "execution_count": 6
        }
      ]
    },
    {
      "cell_type": "code",
      "source": [
        "lista_ids = jogadores_is_active['id'].apply(lambda x: int(''.join(filter(str.isdigit, str(x))))).tolist()\n",
        "len(lista_ids)"
      ],
      "metadata": {
        "colab": {
          "base_uri": "https://localhost:8080/"
        },
        "id": "xCtY423tRD3D",
        "outputId": "ac800f81-9496-4250-9bc7-db606206f0c4"
      },
      "execution_count": 8,
      "outputs": [
        {
          "output_type": "execute_result",
          "data": {
            "text/plain": [
              "535"
            ]
          },
          "metadata": {},
          "execution_count": 8
        }
      ]
    },
    {
      "cell_type": "code",
      "source": [
        "def get_player_data(player_id):\n",
        "    try:\n",
        "        players = playercareerstats.PlayerCareerStats(player_id=player_id)\n",
        "        players = players.get_data_frames()[0]\n",
        "        player_data = pd.DataFrame(players)\n",
        "        return player_data\n",
        "    except:\n",
        "        return None\n",
        "\n",
        "def collect_player_stats(player_ids, max_players=600):\n",
        "    player_data = pd.DataFrame()\n",
        "    for i, player_id in enumerate(player_ids):\n",
        "        if i >= max_players:\n",
        "            break\n",
        "        player_stats = get_player_data(player_id)\n",
        "        if player_stats is not None:\n",
        "            player_data = pd.concat([player_data, player_stats])\n",
        "    return player_data"
      ],
      "metadata": {
        "id": "t16sR2vbRD58"
      },
      "execution_count": 9,
      "outputs": []
    },
    {
      "cell_type": "code",
      "source": [
        "jogadores_not_active = jogadores.query('is_active==False')"
      ],
      "metadata": {
        "id": "x4EG3SozRD9C"
      },
      "execution_count": 10,
      "outputs": []
    },
    {
      "cell_type": "code",
      "source": [
        "lista_ids2 = jogadores_not_active['id'].apply(lambda x: int(''.join(filter(str.isdigit, str(x))))).tolist()\n",
        "len(lista_ids2)"
      ],
      "metadata": {
        "colab": {
          "base_uri": "https://localhost:8080/"
        },
        "id": "6Fx37tlRS_FK",
        "outputId": "36170e51-0803-4873-dda3-d2015cb26dc9"
      },
      "execution_count": 11,
      "outputs": [
        {
          "output_type": "execute_result",
          "data": {
            "text/plain": [
              "4280"
            ]
          },
          "metadata": {},
          "execution_count": 11
        }
      ]
    },
    {
      "cell_type": "code",
      "source": [
        "jogadores_aposentados = collect_player_stats(lista_ids2, max_players=600)"
      ],
      "metadata": {
        "id": "9pis-Pp7S_QI"
      },
      "execution_count": 12,
      "outputs": []
    },
    {
      "cell_type": "code",
      "source": [
        "dict_jogadores = jogadores_not_active.set_index('id')['full_name'].to_dict()"
      ],
      "metadata": {
        "id": "U47vttYMS_ZL"
      },
      "execution_count": 13,
      "outputs": []
    },
    {
      "cell_type": "code",
      "source": [
        "jogadores_aposentados['JOGADOR'] = jogadores_aposentados['PLAYER_ID'].map(dict_jogadores)"
      ],
      "metadata": {
        "id": "qKEMjHN0TVLn"
      },
      "execution_count": 14,
      "outputs": []
    },
    {
      "cell_type": "code",
      "source": [
        "jogadores_aposentados.head()"
      ],
      "metadata": {
        "colab": {
          "base_uri": "https://localhost:8080/",
          "height": 236
        },
        "id": "TEUXeTTSTVds",
        "outputId": "f639119f-6e9d-466b-e110-a6d423a91a64"
      },
      "execution_count": 15,
      "outputs": [
        {
          "output_type": "execute_result",
          "data": {
            "text/plain": [
              "  PLAYER_ID SEASON_ID LEAGUE_ID     TEAM_ID TEAM_ABBREVIATION  PLAYER_AGE  GP  \\\n",
              "0        51   1990-91        00  1610612743               DEN        22.0  67   \n",
              "1        51   1991-92        00  1610612743               DEN        23.0  81   \n",
              "2        51   1992-93        00  1610612743               DEN        24.0  81   \n",
              "3        51   1993-94        00  1610612743               DEN        25.0  80   \n",
              "4        51   1994-95        00  1610612743               DEN        26.0  73   \n",
              "\n",
              "   GS     MIN  FGM  ... OREB  DREB    REB  AST STL BLK    TOV   PF   PTS  \\\n",
              "0  19  1505.0  417  ...   34    87  121.0  206  55   4  110.0  149   942   \n",
              "1  11  1538.0  356  ...   22    92  114.0  192  44   4  117.0  130   837   \n",
              "2  81  2710.0  633  ...   51   174  225.0  344  84   8  187.0  179  1553   \n",
              "3  78  2617.0  588  ...   27   141  168.0  362  82  10  151.0  150  1437   \n",
              "4  43  2082.0  472  ...   32   105  137.0  263  77   9  119.0  126  1165   \n",
              "\n",
              "              JOGADOR  \n",
              "0  Mahmoud Abdul-Rauf  \n",
              "1  Mahmoud Abdul-Rauf  \n",
              "2  Mahmoud Abdul-Rauf  \n",
              "3  Mahmoud Abdul-Rauf  \n",
              "4  Mahmoud Abdul-Rauf  \n",
              "\n",
              "[5 rows x 28 columns]"
            ],
            "text/html": [
              "\n",
              "  <div id=\"df-a57a5e93-c3d3-413b-9b3d-01b1aa956774\">\n",
              "    <div class=\"colab-df-container\">\n",
              "      <div>\n",
              "<style scoped>\n",
              "    .dataframe tbody tr th:only-of-type {\n",
              "        vertical-align: middle;\n",
              "    }\n",
              "\n",
              "    .dataframe tbody tr th {\n",
              "        vertical-align: top;\n",
              "    }\n",
              "\n",
              "    .dataframe thead th {\n",
              "        text-align: right;\n",
              "    }\n",
              "</style>\n",
              "<table border=\"1\" class=\"dataframe\">\n",
              "  <thead>\n",
              "    <tr style=\"text-align: right;\">\n",
              "      <th></th>\n",
              "      <th>PLAYER_ID</th>\n",
              "      <th>SEASON_ID</th>\n",
              "      <th>LEAGUE_ID</th>\n",
              "      <th>TEAM_ID</th>\n",
              "      <th>TEAM_ABBREVIATION</th>\n",
              "      <th>PLAYER_AGE</th>\n",
              "      <th>GP</th>\n",
              "      <th>GS</th>\n",
              "      <th>MIN</th>\n",
              "      <th>FGM</th>\n",
              "      <th>...</th>\n",
              "      <th>OREB</th>\n",
              "      <th>DREB</th>\n",
              "      <th>REB</th>\n",
              "      <th>AST</th>\n",
              "      <th>STL</th>\n",
              "      <th>BLK</th>\n",
              "      <th>TOV</th>\n",
              "      <th>PF</th>\n",
              "      <th>PTS</th>\n",
              "      <th>JOGADOR</th>\n",
              "    </tr>\n",
              "  </thead>\n",
              "  <tbody>\n",
              "    <tr>\n",
              "      <th>0</th>\n",
              "      <td>51</td>\n",
              "      <td>1990-91</td>\n",
              "      <td>00</td>\n",
              "      <td>1610612743</td>\n",
              "      <td>DEN</td>\n",
              "      <td>22.0</td>\n",
              "      <td>67</td>\n",
              "      <td>19</td>\n",
              "      <td>1505.0</td>\n",
              "      <td>417</td>\n",
              "      <td>...</td>\n",
              "      <td>34</td>\n",
              "      <td>87</td>\n",
              "      <td>121.0</td>\n",
              "      <td>206</td>\n",
              "      <td>55</td>\n",
              "      <td>4</td>\n",
              "      <td>110.0</td>\n",
              "      <td>149</td>\n",
              "      <td>942</td>\n",
              "      <td>Mahmoud Abdul-Rauf</td>\n",
              "    </tr>\n",
              "    <tr>\n",
              "      <th>1</th>\n",
              "      <td>51</td>\n",
              "      <td>1991-92</td>\n",
              "      <td>00</td>\n",
              "      <td>1610612743</td>\n",
              "      <td>DEN</td>\n",
              "      <td>23.0</td>\n",
              "      <td>81</td>\n",
              "      <td>11</td>\n",
              "      <td>1538.0</td>\n",
              "      <td>356</td>\n",
              "      <td>...</td>\n",
              "      <td>22</td>\n",
              "      <td>92</td>\n",
              "      <td>114.0</td>\n",
              "      <td>192</td>\n",
              "      <td>44</td>\n",
              "      <td>4</td>\n",
              "      <td>117.0</td>\n",
              "      <td>130</td>\n",
              "      <td>837</td>\n",
              "      <td>Mahmoud Abdul-Rauf</td>\n",
              "    </tr>\n",
              "    <tr>\n",
              "      <th>2</th>\n",
              "      <td>51</td>\n",
              "      <td>1992-93</td>\n",
              "      <td>00</td>\n",
              "      <td>1610612743</td>\n",
              "      <td>DEN</td>\n",
              "      <td>24.0</td>\n",
              "      <td>81</td>\n",
              "      <td>81</td>\n",
              "      <td>2710.0</td>\n",
              "      <td>633</td>\n",
              "      <td>...</td>\n",
              "      <td>51</td>\n",
              "      <td>174</td>\n",
              "      <td>225.0</td>\n",
              "      <td>344</td>\n",
              "      <td>84</td>\n",
              "      <td>8</td>\n",
              "      <td>187.0</td>\n",
              "      <td>179</td>\n",
              "      <td>1553</td>\n",
              "      <td>Mahmoud Abdul-Rauf</td>\n",
              "    </tr>\n",
              "    <tr>\n",
              "      <th>3</th>\n",
              "      <td>51</td>\n",
              "      <td>1993-94</td>\n",
              "      <td>00</td>\n",
              "      <td>1610612743</td>\n",
              "      <td>DEN</td>\n",
              "      <td>25.0</td>\n",
              "      <td>80</td>\n",
              "      <td>78</td>\n",
              "      <td>2617.0</td>\n",
              "      <td>588</td>\n",
              "      <td>...</td>\n",
              "      <td>27</td>\n",
              "      <td>141</td>\n",
              "      <td>168.0</td>\n",
              "      <td>362</td>\n",
              "      <td>82</td>\n",
              "      <td>10</td>\n",
              "      <td>151.0</td>\n",
              "      <td>150</td>\n",
              "      <td>1437</td>\n",
              "      <td>Mahmoud Abdul-Rauf</td>\n",
              "    </tr>\n",
              "    <tr>\n",
              "      <th>4</th>\n",
              "      <td>51</td>\n",
              "      <td>1994-95</td>\n",
              "      <td>00</td>\n",
              "      <td>1610612743</td>\n",
              "      <td>DEN</td>\n",
              "      <td>26.0</td>\n",
              "      <td>73</td>\n",
              "      <td>43</td>\n",
              "      <td>2082.0</td>\n",
              "      <td>472</td>\n",
              "      <td>...</td>\n",
              "      <td>32</td>\n",
              "      <td>105</td>\n",
              "      <td>137.0</td>\n",
              "      <td>263</td>\n",
              "      <td>77</td>\n",
              "      <td>9</td>\n",
              "      <td>119.0</td>\n",
              "      <td>126</td>\n",
              "      <td>1165</td>\n",
              "      <td>Mahmoud Abdul-Rauf</td>\n",
              "    </tr>\n",
              "  </tbody>\n",
              "</table>\n",
              "<p>5 rows × 28 columns</p>\n",
              "</div>\n",
              "      <button class=\"colab-df-convert\" onclick=\"convertToInteractive('df-a57a5e93-c3d3-413b-9b3d-01b1aa956774')\"\n",
              "              title=\"Convert this dataframe to an interactive table.\"\n",
              "              style=\"display:none;\">\n",
              "        \n",
              "  <svg xmlns=\"http://www.w3.org/2000/svg\" height=\"24px\"viewBox=\"0 0 24 24\"\n",
              "       width=\"24px\">\n",
              "    <path d=\"M0 0h24v24H0V0z\" fill=\"none\"/>\n",
              "    <path d=\"M18.56 5.44l.94 2.06.94-2.06 2.06-.94-2.06-.94-.94-2.06-.94 2.06-2.06.94zm-11 1L8.5 8.5l.94-2.06 2.06-.94-2.06-.94L8.5 2.5l-.94 2.06-2.06.94zm10 10l.94 2.06.94-2.06 2.06-.94-2.06-.94-.94-2.06-.94 2.06-2.06.94z\"/><path d=\"M17.41 7.96l-1.37-1.37c-.4-.4-.92-.59-1.43-.59-.52 0-1.04.2-1.43.59L10.3 9.45l-7.72 7.72c-.78.78-.78 2.05 0 2.83L4 21.41c.39.39.9.59 1.41.59.51 0 1.02-.2 1.41-.59l7.78-7.78 2.81-2.81c.8-.78.8-2.07 0-2.86zM5.41 20L4 18.59l7.72-7.72 1.47 1.35L5.41 20z\"/>\n",
              "  </svg>\n",
              "      </button>\n",
              "      \n",
              "  <style>\n",
              "    .colab-df-container {\n",
              "      display:flex;\n",
              "      flex-wrap:wrap;\n",
              "      gap: 12px;\n",
              "    }\n",
              "\n",
              "    .colab-df-convert {\n",
              "      background-color: #E8F0FE;\n",
              "      border: none;\n",
              "      border-radius: 50%;\n",
              "      cursor: pointer;\n",
              "      display: none;\n",
              "      fill: #1967D2;\n",
              "      height: 32px;\n",
              "      padding: 0 0 0 0;\n",
              "      width: 32px;\n",
              "    }\n",
              "\n",
              "    .colab-df-convert:hover {\n",
              "      background-color: #E2EBFA;\n",
              "      box-shadow: 0px 1px 2px rgba(60, 64, 67, 0.3), 0px 1px 3px 1px rgba(60, 64, 67, 0.15);\n",
              "      fill: #174EA6;\n",
              "    }\n",
              "\n",
              "    [theme=dark] .colab-df-convert {\n",
              "      background-color: #3B4455;\n",
              "      fill: #D2E3FC;\n",
              "    }\n",
              "\n",
              "    [theme=dark] .colab-df-convert:hover {\n",
              "      background-color: #434B5C;\n",
              "      box-shadow: 0px 1px 3px 1px rgba(0, 0, 0, 0.15);\n",
              "      filter: drop-shadow(0px 1px 2px rgba(0, 0, 0, 0.3));\n",
              "      fill: #FFFFFF;\n",
              "    }\n",
              "  </style>\n",
              "\n",
              "      <script>\n",
              "        const buttonEl =\n",
              "          document.querySelector('#df-a57a5e93-c3d3-413b-9b3d-01b1aa956774 button.colab-df-convert');\n",
              "        buttonEl.style.display =\n",
              "          google.colab.kernel.accessAllowed ? 'block' : 'none';\n",
              "\n",
              "        async function convertToInteractive(key) {\n",
              "          const element = document.querySelector('#df-a57a5e93-c3d3-413b-9b3d-01b1aa956774');\n",
              "          const dataTable =\n",
              "            await google.colab.kernel.invokeFunction('convertToInteractive',\n",
              "                                                     [key], {});\n",
              "          if (!dataTable) return;\n",
              "\n",
              "          const docLinkHtml = 'Like what you see? Visit the ' +\n",
              "            '<a target=\"_blank\" href=https://colab.research.google.com/notebooks/data_table.ipynb>data table notebook</a>'\n",
              "            + ' to learn more about interactive tables.';\n",
              "          element.innerHTML = '';\n",
              "          dataTable['output_type'] = 'display_data';\n",
              "          await google.colab.output.renderOutput(dataTable, element);\n",
              "          const docLink = document.createElement('div');\n",
              "          docLink.innerHTML = docLinkHtml;\n",
              "          element.appendChild(docLink);\n",
              "        }\n",
              "      </script>\n",
              "    </div>\n",
              "  </div>\n",
              "  "
            ]
          },
          "metadata": {},
          "execution_count": 15
        }
      ]
    },
    {
      "cell_type": "code",
      "source": [
        "jogadores_aposentados.to_csv('jogadores_aposentados_nba', sep = ',', index = False)"
      ],
      "metadata": {
        "id": "Qk47j4g6d2gm"
      },
      "execution_count": 16,
      "outputs": []
    },
    {
      "cell_type": "code",
      "source": [
        "jogadores_is_active = jogadores.query('is_active==True')"
      ],
      "metadata": {
        "id": "NYR_V0FlRD0L"
      },
      "execution_count": 7,
      "outputs": []
    },
    {
      "cell_type": "code",
      "source": [
        "jogadores_em_atividade = collect_player_stats(lista_ids, max_players=600)"
      ],
      "metadata": {
        "id": "uOJ9f1Q8Rh0R"
      },
      "execution_count": 17,
      "outputs": []
    },
    {
      "cell_type": "code",
      "source": [
        "dict_jogadores_em_atividade = jogadores_is_active.set_index('id')['full_name'].to_dict()"
      ],
      "metadata": {
        "id": "S5SRyWanRh68"
      },
      "execution_count": 18,
      "outputs": []
    },
    {
      "cell_type": "code",
      "source": [
        "jogadores_em_atividade['JOGADOR'] = jogadores_em_atividade['PLAYER_ID'].map(dict_jogadores)"
      ],
      "metadata": {
        "id": "ASfHPhX_Rh_k"
      },
      "execution_count": 19,
      "outputs": []
    },
    {
      "cell_type": "code",
      "source": [
        "jogadores_em_atividade.head()"
      ],
      "metadata": {
        "colab": {
          "base_uri": "https://localhost:8080/",
          "height": 236
        },
        "id": "jx9ur8AiTm-7",
        "outputId": "6abc5b7e-a61e-40f3-f0a2-c903f6931cd1"
      },
      "execution_count": 20,
      "outputs": [
        {
          "output_type": "execute_result",
          "data": {
            "text/plain": [
              "  PLAYER_ID SEASON_ID LEAGUE_ID     TEAM_ID TEAM_ABBREVIATION  PLAYER_AGE  GP  \\\n",
              "0   1630173   2020-21        00  1610612748               MIA        21.0  61   \n",
              "1   1630173   2021-22        00  1610612761               TOR        22.0  73   \n",
              "2   1630173   2022-23        00  1610612761               TOR        23.0  55   \n",
              "0    203500   2013-14        00  1610612760               OKC        20.0  81   \n",
              "1    203500   2014-15        00  1610612760               OKC        21.0  70   \n",
              "\n",
              "   GS     MIN  FGM  ... OREB  DREB  REB AST  STL BLK TOV   PF  PTS  \\\n",
              "0   4   737.0  124  ...   73   135  208  29   20  28  43   91  304   \n",
              "1  28  1725.0  265  ...  146   327  473  82   37  41  84  151  664   \n",
              "2  12  1141.0  196  ...  100   228  328  50   31  30  59  102  508   \n",
              "0  20  1197.0   93  ...  142   190  332  43   40  57  71  203  265   \n",
              "1  67  1771.0  217  ...  199   324  523  66   38  86  99  222  537   \n",
              "\n",
              "            JOGADOR  \n",
              "0  Precious Achiuwa  \n",
              "1  Precious Achiuwa  \n",
              "2  Precious Achiuwa  \n",
              "0      Steven Adams  \n",
              "1      Steven Adams  \n",
              "\n",
              "[5 rows x 28 columns]"
            ],
            "text/html": [
              "\n",
              "  <div id=\"df-c2157f20-c112-4845-85b6-74fb07aa0c95\">\n",
              "    <div class=\"colab-df-container\">\n",
              "      <div>\n",
              "<style scoped>\n",
              "    .dataframe tbody tr th:only-of-type {\n",
              "        vertical-align: middle;\n",
              "    }\n",
              "\n",
              "    .dataframe tbody tr th {\n",
              "        vertical-align: top;\n",
              "    }\n",
              "\n",
              "    .dataframe thead th {\n",
              "        text-align: right;\n",
              "    }\n",
              "</style>\n",
              "<table border=\"1\" class=\"dataframe\">\n",
              "  <thead>\n",
              "    <tr style=\"text-align: right;\">\n",
              "      <th></th>\n",
              "      <th>PLAYER_ID</th>\n",
              "      <th>SEASON_ID</th>\n",
              "      <th>LEAGUE_ID</th>\n",
              "      <th>TEAM_ID</th>\n",
              "      <th>TEAM_ABBREVIATION</th>\n",
              "      <th>PLAYER_AGE</th>\n",
              "      <th>GP</th>\n",
              "      <th>GS</th>\n",
              "      <th>MIN</th>\n",
              "      <th>FGM</th>\n",
              "      <th>...</th>\n",
              "      <th>OREB</th>\n",
              "      <th>DREB</th>\n",
              "      <th>REB</th>\n",
              "      <th>AST</th>\n",
              "      <th>STL</th>\n",
              "      <th>BLK</th>\n",
              "      <th>TOV</th>\n",
              "      <th>PF</th>\n",
              "      <th>PTS</th>\n",
              "      <th>JOGADOR</th>\n",
              "    </tr>\n",
              "  </thead>\n",
              "  <tbody>\n",
              "    <tr>\n",
              "      <th>0</th>\n",
              "      <td>1630173</td>\n",
              "      <td>2020-21</td>\n",
              "      <td>00</td>\n",
              "      <td>1610612748</td>\n",
              "      <td>MIA</td>\n",
              "      <td>21.0</td>\n",
              "      <td>61</td>\n",
              "      <td>4</td>\n",
              "      <td>737.0</td>\n",
              "      <td>124</td>\n",
              "      <td>...</td>\n",
              "      <td>73</td>\n",
              "      <td>135</td>\n",
              "      <td>208</td>\n",
              "      <td>29</td>\n",
              "      <td>20</td>\n",
              "      <td>28</td>\n",
              "      <td>43</td>\n",
              "      <td>91</td>\n",
              "      <td>304</td>\n",
              "      <td>Precious Achiuwa</td>\n",
              "    </tr>\n",
              "    <tr>\n",
              "      <th>1</th>\n",
              "      <td>1630173</td>\n",
              "      <td>2021-22</td>\n",
              "      <td>00</td>\n",
              "      <td>1610612761</td>\n",
              "      <td>TOR</td>\n",
              "      <td>22.0</td>\n",
              "      <td>73</td>\n",
              "      <td>28</td>\n",
              "      <td>1725.0</td>\n",
              "      <td>265</td>\n",
              "      <td>...</td>\n",
              "      <td>146</td>\n",
              "      <td>327</td>\n",
              "      <td>473</td>\n",
              "      <td>82</td>\n",
              "      <td>37</td>\n",
              "      <td>41</td>\n",
              "      <td>84</td>\n",
              "      <td>151</td>\n",
              "      <td>664</td>\n",
              "      <td>Precious Achiuwa</td>\n",
              "    </tr>\n",
              "    <tr>\n",
              "      <th>2</th>\n",
              "      <td>1630173</td>\n",
              "      <td>2022-23</td>\n",
              "      <td>00</td>\n",
              "      <td>1610612761</td>\n",
              "      <td>TOR</td>\n",
              "      <td>23.0</td>\n",
              "      <td>55</td>\n",
              "      <td>12</td>\n",
              "      <td>1141.0</td>\n",
              "      <td>196</td>\n",
              "      <td>...</td>\n",
              "      <td>100</td>\n",
              "      <td>228</td>\n",
              "      <td>328</td>\n",
              "      <td>50</td>\n",
              "      <td>31</td>\n",
              "      <td>30</td>\n",
              "      <td>59</td>\n",
              "      <td>102</td>\n",
              "      <td>508</td>\n",
              "      <td>Precious Achiuwa</td>\n",
              "    </tr>\n",
              "    <tr>\n",
              "      <th>0</th>\n",
              "      <td>203500</td>\n",
              "      <td>2013-14</td>\n",
              "      <td>00</td>\n",
              "      <td>1610612760</td>\n",
              "      <td>OKC</td>\n",
              "      <td>20.0</td>\n",
              "      <td>81</td>\n",
              "      <td>20</td>\n",
              "      <td>1197.0</td>\n",
              "      <td>93</td>\n",
              "      <td>...</td>\n",
              "      <td>142</td>\n",
              "      <td>190</td>\n",
              "      <td>332</td>\n",
              "      <td>43</td>\n",
              "      <td>40</td>\n",
              "      <td>57</td>\n",
              "      <td>71</td>\n",
              "      <td>203</td>\n",
              "      <td>265</td>\n",
              "      <td>Steven Adams</td>\n",
              "    </tr>\n",
              "    <tr>\n",
              "      <th>1</th>\n",
              "      <td>203500</td>\n",
              "      <td>2014-15</td>\n",
              "      <td>00</td>\n",
              "      <td>1610612760</td>\n",
              "      <td>OKC</td>\n",
              "      <td>21.0</td>\n",
              "      <td>70</td>\n",
              "      <td>67</td>\n",
              "      <td>1771.0</td>\n",
              "      <td>217</td>\n",
              "      <td>...</td>\n",
              "      <td>199</td>\n",
              "      <td>324</td>\n",
              "      <td>523</td>\n",
              "      <td>66</td>\n",
              "      <td>38</td>\n",
              "      <td>86</td>\n",
              "      <td>99</td>\n",
              "      <td>222</td>\n",
              "      <td>537</td>\n",
              "      <td>Steven Adams</td>\n",
              "    </tr>\n",
              "  </tbody>\n",
              "</table>\n",
              "<p>5 rows × 28 columns</p>\n",
              "</div>\n",
              "      <button class=\"colab-df-convert\" onclick=\"convertToInteractive('df-c2157f20-c112-4845-85b6-74fb07aa0c95')\"\n",
              "              title=\"Convert this dataframe to an interactive table.\"\n",
              "              style=\"display:none;\">\n",
              "        \n",
              "  <svg xmlns=\"http://www.w3.org/2000/svg\" height=\"24px\"viewBox=\"0 0 24 24\"\n",
              "       width=\"24px\">\n",
              "    <path d=\"M0 0h24v24H0V0z\" fill=\"none\"/>\n",
              "    <path d=\"M18.56 5.44l.94 2.06.94-2.06 2.06-.94-2.06-.94-.94-2.06-.94 2.06-2.06.94zm-11 1L8.5 8.5l.94-2.06 2.06-.94-2.06-.94L8.5 2.5l-.94 2.06-2.06.94zm10 10l.94 2.06.94-2.06 2.06-.94-2.06-.94-.94-2.06-.94 2.06-2.06.94z\"/><path d=\"M17.41 7.96l-1.37-1.37c-.4-.4-.92-.59-1.43-.59-.52 0-1.04.2-1.43.59L10.3 9.45l-7.72 7.72c-.78.78-.78 2.05 0 2.83L4 21.41c.39.39.9.59 1.41.59.51 0 1.02-.2 1.41-.59l7.78-7.78 2.81-2.81c.8-.78.8-2.07 0-2.86zM5.41 20L4 18.59l7.72-7.72 1.47 1.35L5.41 20z\"/>\n",
              "  </svg>\n",
              "      </button>\n",
              "      \n",
              "  <style>\n",
              "    .colab-df-container {\n",
              "      display:flex;\n",
              "      flex-wrap:wrap;\n",
              "      gap: 12px;\n",
              "    }\n",
              "\n",
              "    .colab-df-convert {\n",
              "      background-color: #E8F0FE;\n",
              "      border: none;\n",
              "      border-radius: 50%;\n",
              "      cursor: pointer;\n",
              "      display: none;\n",
              "      fill: #1967D2;\n",
              "      height: 32px;\n",
              "      padding: 0 0 0 0;\n",
              "      width: 32px;\n",
              "    }\n",
              "\n",
              "    .colab-df-convert:hover {\n",
              "      background-color: #E2EBFA;\n",
              "      box-shadow: 0px 1px 2px rgba(60, 64, 67, 0.3), 0px 1px 3px 1px rgba(60, 64, 67, 0.15);\n",
              "      fill: #174EA6;\n",
              "    }\n",
              "\n",
              "    [theme=dark] .colab-df-convert {\n",
              "      background-color: #3B4455;\n",
              "      fill: #D2E3FC;\n",
              "    }\n",
              "\n",
              "    [theme=dark] .colab-df-convert:hover {\n",
              "      background-color: #434B5C;\n",
              "      box-shadow: 0px 1px 3px 1px rgba(0, 0, 0, 0.15);\n",
              "      filter: drop-shadow(0px 1px 2px rgba(0, 0, 0, 0.3));\n",
              "      fill: #FFFFFF;\n",
              "    }\n",
              "  </style>\n",
              "\n",
              "      <script>\n",
              "        const buttonEl =\n",
              "          document.querySelector('#df-c2157f20-c112-4845-85b6-74fb07aa0c95 button.colab-df-convert');\n",
              "        buttonEl.style.display =\n",
              "          google.colab.kernel.accessAllowed ? 'block' : 'none';\n",
              "\n",
              "        async function convertToInteractive(key) {\n",
              "          const element = document.querySelector('#df-c2157f20-c112-4845-85b6-74fb07aa0c95');\n",
              "          const dataTable =\n",
              "            await google.colab.kernel.invokeFunction('convertToInteractive',\n",
              "                                                     [key], {});\n",
              "          if (!dataTable) return;\n",
              "\n",
              "          const docLinkHtml = 'Like what you see? Visit the ' +\n",
              "            '<a target=\"_blank\" href=https://colab.research.google.com/notebooks/data_table.ipynb>data table notebook</a>'\n",
              "            + ' to learn more about interactive tables.';\n",
              "          element.innerHTML = '';\n",
              "          dataTable['output_type'] = 'display_data';\n",
              "          await google.colab.output.renderOutput(dataTable, element);\n",
              "          const docLink = document.createElement('div');\n",
              "          docLink.innerHTML = docLinkHtml;\n",
              "          element.appendChild(docLink);\n",
              "        }\n",
              "      </script>\n",
              "    </div>\n",
              "  </div>\n",
              "  "
            ]
          },
          "metadata": {},
          "execution_count": 20
        }
      ]
    },
    {
      "cell_type": "code",
      "source": [
        "jogadores_em_atividade.to_csv('jogadores_em_atividade_nba', sep = ',', index = False)"
      ],
      "metadata": {
        "id": "EJzPii2fc8EM"
      },
      "execution_count": 21,
      "outputs": []
    }
  ]
}